{
 "cells": [
  {
   "cell_type": "code",
   "execution_count": 13,
   "metadata": {},
   "outputs": [],
   "source": [
    "#import os\n",
    "#arr = os.listdir()\n",
    "#print(arr)\n",
    "import re"
   ]
  },
  {
   "cell_type": "code",
   "execution_count": 15,
   "metadata": {},
   "outputs": [
    {
     "name": "stdout",
     "output_type": "stream",
     "text": [
      "10\n"
     ]
    }
   ],
   "source": [
    "# import all necessary modules\n",
    "# from google.colab import files\n",
    "# fil = files.upload()\n",
    "''' \n",
    "lines = []\n",
    "with open('captions_text.vtt', 'r') as f:\n",
    "    lines = f.readlines()\n",
    "# f.close()\n",
    "\n",
    "count = 0\n",
    "for line in lines:\n",
    "    count += 1\n",
    "    print(f'line {count}: {line}')\n",
    "\n",
    "\n",
    "with open('captions_text.vtt', 'r') as f:\n",
    "    for line in f:\n",
    "        print(line)\n",
    "'''\n",
    "print(10)\n"
   ]
  },
  {
   "cell_type": "code",
   "execution_count": 20,
   "metadata": {},
   "outputs": [
    {
     "data": {
      "text/plain": [
       "['Steve', 'Steve']"
      ]
     },
     "execution_count": 20,
     "metadata": {},
     "output_type": "execute_result"
    }
   ],
   "source": [
    "sentence=\"Hi, my name is Steve and I like to eat Steve's chocolates.\"\n",
    "regex_name = re.compile('Steve')\n",
    "regex_name.findall(sentence)\n"
   ]
  },
  {
   "cell_type": "code",
   "execution_count": 21,
   "metadata": {},
   "outputs": [
    {
     "data": {
      "text/plain": [
       "\"Hi, my name is STEVE and I like to eat STEVE's chocolates.\""
      ]
     },
     "execution_count": 21,
     "metadata": {},
     "output_type": "execute_result"
    }
   ],
   "source": [
    "regex_name.sub('STEVE', sentence)\n"
   ]
  },
  {
   "cell_type": "code",
   "execution_count": 22,
   "metadata": {},
   "outputs": [
    {
     "name": "stdout",
     "output_type": "stream",
     "text": [
      "Hi, my name is Steve and I like to eat Steve's chocolates.\n"
     ]
    }
   ],
   "source": [
    "print(sentence)"
   ]
  },
  {
   "cell_type": "code",
   "execution_count": 24,
   "metadata": {},
   "outputs": [
    {
     "name": "stdout",
     "output_type": "stream",
     "text": [
      "Hi, my name is Adam and I like to eat Adam's chocolates.\n",
      "Hi, my name is Bob and I like to eat Bob's chocolates.\n",
      "Hi, my name is Charles and I like to eat Charles's chocolates.\n"
     ]
    }
   ],
   "source": [
    "names=['Adam','Bob', 'Charles']\n",
    "for name in names:\n",
    "    print(regex_name.sub(name, sentence))\n"
   ]
  },
  {
   "cell_type": "code",
   "execution_count": 26,
   "metadata": {},
   "outputs": [
    {
     "data": {
      "text/plain": [
       "['Steve', 'Stove']"
      ]
     },
     "execution_count": 26,
     "metadata": {},
     "output_type": "execute_result"
    }
   ],
   "source": [
    "sentence = \"Hi, my name is Steve and I like to eat Stove's chocolates.\"\n",
    "regex_name = re.compile(r'St\\wve')\n",
    "regex_name.findall(sentence)"
   ]
  },
  {
   "cell_type": "code",
   "execution_count": 35,
   "metadata": {},
   "outputs": [
    {
     "data": {
      "text/plain": [
       "re.compile(r'\\n\\n\\d{1,3}\\n\\d\\d:\\d\\d.\\d\\d\\d --> \\d\\d:\\d\\d.\\d\\d\\d\\n', re.UNICODE)"
      ]
     },
     "execution_count": 35,
     "metadata": {},
     "output_type": "execute_result"
    }
   ],
   "source": [
    "# pattern to replace\n",
    "'\\\\n\\\\n1\\\\n00:05.080 --> 00:09.310\\\\n'\n",
    "pattern2replace = r'\\n\\n\\d{1,3}\\n\\d\\d:\\d\\d.\\d\\d\\d --> \\d\\d:\\d\\d.\\d\\d\\d\\n'\n",
    "regex_timestamps = re.compile(pattern2replace)\n",
    "regex_timestamps"
   ]
  },
  {
   "cell_type": "code",
   "execution_count": 42,
   "metadata": {},
   "outputs": [
    {
     "data": {
      "text/plain": [
       "7941"
      ]
     },
     "execution_count": 42,
     "metadata": {},
     "output_type": "execute_result"
    }
   ],
   "source": [
    "text = ''\n",
    "with open('captions_text.vtt', 'r') as f:\n",
    "    text = f.read()\n",
    "    #for line in f:\n",
    "    #    print(line)\n",
    "# print(x)\n",
    "#regex_timestamps.findall(x)\n",
    "newtext = regex_timestamps.sub(' ', text)\n",
    "newtext = newtext[7:-1]\n",
    "len(newtext)"
   ]
  },
  {
   "cell_type": "code",
   "execution_count": 46,
   "metadata": {},
   "outputs": [
    {
     "name": "stdout",
     "output_type": "stream",
     "text": [
      "<class 'list'>\n",
      "1498\n"
     ]
    }
   ],
   "source": [
    "words = newtext.split()\n",
    "print(type(words))\n",
    "print(len(words))"
   ]
  },
  {
   "cell_type": "code",
   "execution_count": 59,
   "metadata": {},
   "outputs": [
    {
     "data": {
      "text/plain": [
       "' \\nfor word in words:\\n    if len(word) == 4:\\n        print(word)\\n'"
      ]
     },
     "execution_count": 59,
     "metadata": {},
     "output_type": "execute_result"
    }
   ],
   "source": [
    "'''\n",
    "for word in words:\n",
    "    if len(word) == 4 and not word[-1]=='.' and word.find(\"'\")== -1:\n",
    "        # print(word)\n",
    "        word = word[0] + \"***\" \n",
    "        # no - not working - word is not in words - connection breaks\n",
    "        \n",
    "for word in words:\n",
    "    if len(word) == 4:\n",
    "        print(word)\n",
    "''' \n",
    "for wordi in range(len(words)):\n",
    "    word = words[wordi]\n",
    "    if len(word) == 4 and not word[-1]=='.' and word.find(\"'\")== -1:\n",
    "        words[wordi] = word[0] + \"***\"\n",
    "''' \n",
    "for word in words:\n",
    "    if len(word) == 4:\n",
    "        print(word)\n",
    "''' \n"
   ]
  },
  {
   "cell_type": "code",
   "execution_count": 63,
   "metadata": {},
   "outputs": [
    {
     "name": "stdout",
     "output_type": "stream",
     "text": [
      "end\n"
     ]
    }
   ],
   "source": [
    "cleantext = ' '.join(words)\n",
    "#cleantext\n",
    "\n",
    "with open('clean_transcript.txt', 'w') as f:\n",
    "    f.write(cleantext)\n",
    "\n",
    "print('end')"
   ]
  },
  {
   "cell_type": "code",
   "execution_count": 76,
   "metadata": {},
   "outputs": [],
   "source": [
    "# Readability of scrambled words\n",
    "\n",
    "text = \"I have often wondered whether it's possible to read an entire book faster if the useless letters were removed.\"\n",
    "words = text.split()\n"
   ]
  },
  {
   "cell_type": "code",
   "execution_count": 72,
   "metadata": {},
   "outputs": [
    {
     "data": {
      "text/plain": [
       "'eomerdv'"
      ]
     },
     "execution_count": 72,
     "metadata": {},
     "output_type": "execute_result"
    }
   ],
   "source": [
    "import numpy as np\n",
    "\n",
    "w = 'removed'\n",
    "idx = np.random.permutation(len(w))\n",
    "w2 = ''.join([w[i] for i in idx])\n",
    "w2"
   ]
  },
  {
   "cell_type": "code",
   "execution_count": 98,
   "metadata": {},
   "outputs": [
    {
     "data": {
      "text/plain": [
       "\"I hvae otefn wrneoded wethher i'ts piolssbe to raed an erntie book featsr if the usleses lteetrs wree roevmed.\""
      ]
     },
     "execution_count": 98,
     "metadata": {},
     "output_type": "execute_result"
    }
   ],
   "source": [
    "text = \"I have often wondered whether it's possible to read an entire book faster if the useless letters were removed.\"\n",
    "words = text.split()\n",
    "\n",
    "for wordi in range(len(words)):\n",
    "    word = words[wordi]\n",
    "    if len(word) < 4:\n",
    "        continue\n",
    "        \n",
    "    if word[-1] not in ['.', '?', '!', ',', ';']:\n",
    "        middleword = word[1:-1]\n",
    "        idx = np.random.permutation(len(middleword))\n",
    "        words[wordi] = word[0] + ''.join([middleword[i] for i in idx]) + word[-1]\n",
    "        #print(word)\n",
    "        #print(words[wordi])\n",
    "        #print(' ')\n",
    "    elif len(word) > 4:\n",
    "        #print(word)\n",
    "        middleword = word[1:-2]\n",
    "        idx = np.random.permutation(len(middleword))\n",
    "        #print(idx)\n",
    "        words[wordi] = word[0] + ''.join([middleword[i] for i in idx]) + word[-2:]\n",
    "        #print(words[wordi])\n",
    "newtext = ' '.join(words)\n",
    "\n",
    "newtext"
   ]
  },
  {
   "cell_type": "code",
   "execution_count": 104,
   "metadata": {},
   "outputs": [
    {
     "data": {
      "text/plain": [
       "'I hcke ohuyn wbhzdlvd wvncejr igks pfiaemfe to rfzd an eeeyme bepk ftinlr if the uqjzufs lkxesps wgye rpyyltd.'"
      ]
     },
     "execution_count": 104,
     "metadata": {},
     "output_type": "execute_result"
    }
   ],
   "source": [
    "# replace with random letters\n",
    "import string \n",
    "allletters = string.ascii_lowercase\n",
    "#print(allletters)\n",
    "\n",
    "words = text.split()\n",
    "\n",
    "for wordi in range(len(words)):\n",
    "    word = words[wordi]\n",
    "    if len(word) < 4:\n",
    "        continue\n",
    "        \n",
    "    idx = np.random.permutation(len(allletters))\n",
    "        \n",
    "    if word[-1] not in ['.', '?', '!', ',', ';']:\n",
    "        middleword = word[1:-1]\n",
    "        idx2 = np.random.randint(0, len(allletters), len(middleword))\n",
    "        words[wordi] = word[0] + ''.join([allletters[i] for i in idx2]) + word[-1]\n",
    "        #print(word)\n",
    "        #print(words[wordi])\n",
    "        #print(' ')\n",
    "    elif len(word) > 4:\n",
    "        #print(word)\n",
    "        middleword = word[1:-2]\n",
    "        idx2 = np.random.randint(0, len(allletters), len(middleword))\n",
    "        #print(idx)\n",
    "        words[wordi] = word[0] + ''.join([allletters[i] for i in idx2]) + word[-2:]\n",
    "        #print(words[wordi])\n",
    "newtext = ' '.join(words)\n",
    "\n",
    "newtext"
   ]
  },
  {
   "cell_type": "code",
   "execution_count": 102,
   "metadata": {},
   "outputs": [
    {
     "data": {
      "text/plain": [
       "array([4, 3, 4, 5, 6])"
      ]
     },
     "execution_count": 102,
     "metadata": {},
     "output_type": "execute_result"
    }
   ],
   "source": [
    "np.random.randint(0,10,5)"
   ]
  },
  {
   "cell_type": "code",
   "execution_count": null,
   "metadata": {},
   "outputs": [],
   "source": []
  }
 ],
 "metadata": {
  "kernelspec": {
   "display_name": "Python 3",
   "language": "python",
   "name": "python3"
  },
  "language_info": {
   "codemirror_mode": {
    "name": "ipython",
    "version": 3
   },
   "file_extension": ".py",
   "mimetype": "text/x-python",
   "name": "python",
   "nbconvert_exporter": "python",
   "pygments_lexer": "ipython3",
   "version": "3.8.5"
  }
 },
 "nbformat": 4,
 "nbformat_minor": 4
}
